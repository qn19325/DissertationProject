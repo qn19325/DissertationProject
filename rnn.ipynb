{
  "nbformat": 4,
  "nbformat_minor": 0,
  "metadata": {
    "colab": {
      "name": "rnn.ipynb",
      "provenance": [],
      "collapsed_sections": [],
      "authorship_tag": "ABX9TyMJmBrRzat957sulYVLlbOW",
      "include_colab_link": true
    },
    "kernelspec": {
      "name": "python3",
      "display_name": "Python 3"
    },
    "language_info": {
      "name": "python"
    },
    "accelerator": "GPU"
  },
  "cells": [
    {
      "cell_type": "markdown",
      "metadata": {
        "id": "view-in-github",
        "colab_type": "text"
      },
      "source": [
        "<a href=\"https://colab.research.google.com/github/qn19325/individualProject/blob/main/rnn.ipynb\" target=\"_parent\"><img src=\"https://colab.research.google.com/assets/colab-badge.svg\" alt=\"Open In Colab\"/></a>"
      ]
    },
    {
      "cell_type": "code",
      "source": [
        "import torch\n",
        "import torch.nn as nn\n",
        "import torchvision\n",
        "import torchvision.transforms as transforms\n",
        "from torch.utils.data import Dataset\n",
        "import os\n",
        "import pandas as pd\n",
        "from torchvision.io import read_image"
      ],
      "metadata": {
        "id": "dUpCWMLRrzl3"
      },
      "execution_count": 74,
      "outputs": []
    },
    {
      "cell_type": "code",
      "source": [
        "# device = torch.device('cuda' if torch.cuda.is_available() else 'cpu')\n",
        "device = 'cpu'\n",
        "print(device)"
      ],
      "metadata": {
        "colab": {
          "base_uri": "https://localhost:8080/"
        },
        "id": "oVfre1Uar_Nx",
        "outputId": "90033597-4105-432a-d7c9-a91b697df5f3"
      },
      "execution_count": 75,
      "outputs": [
        {
          "output_type": "stream",
          "name": "stdout",
          "text": [
            "cpu\n"
          ]
        }
      ]
    },
    {
      "cell_type": "code",
      "source": [
        "num_classes = 11\n",
        "num_epochs = 2\n",
        "batch_size = 2\n",
        "learning_rate = 0.001\n",
        "input_size = 64\n",
        "sequence_length = 64\n",
        "hidden_size = 128\n",
        "num_layers = 2"
      ],
      "metadata": {
        "id": "b5-mX8wssEfL"
      },
      "execution_count": 76,
      "outputs": []
    },
    {
      "cell_type": "code",
      "source": [
        "class CustomImageDataset(Dataset):\n",
        "    def __init__(self, annotations_file, img_dir, transform=None, target_transform=None):\n",
        "        self.img_labels = pd.read_csv(annotations_file)\n",
        "        self.img_dir = img_dir\n",
        "        self.transform = transform\n",
        "        self.target_transform = target_transform\n",
        "\n",
        "    def __len__(self):\n",
        "        return len(self.img_labels)\n",
        "\n",
        "    def __getitem__(self, idx):\n",
        "        img_path = os.path.join(self.img_dir, self.img_labels.iloc[idx, 0])\n",
        "        image = read_image(img_path) / 255\n",
        "        label = self.img_labels.iloc[idx, 1] / 10\n",
        "        if self.transform:\n",
        "            image = self.transform(image)\n",
        "        if self.target_transform:\n",
        "            label = self.target_transform(label)\n",
        "        return image, label\n",
        "\n",
        "dataset = CustomImageDataset('data.csv', 'trainingData')\n",
        "train_loader = torch.utils.data.DataLoader(dataset=dataset, \n",
        "                                           batch_size=batch_size, \n",
        "                                           shuffle=False)"
      ],
      "metadata": {
        "id": "IxbHORRrsLUX"
      },
      "execution_count": 79,
      "outputs": []
    },
    {
      "cell_type": "code",
      "source": [
        "class RNN(nn.Module):\n",
        "    def __init__(self, input_size, hidden_size, num_layers, num_classes):\n",
        "        super(RNN, self).__init__()\n",
        "        self.num_layers = num_layers\n",
        "        self.hidden_size = hidden_size\n",
        "        self.rnn = nn.RNN(input_size, hidden_size, num_layers, batch_first=True)\n",
        "        self.fc = nn.Linear(hidden_size, num_classes)\n",
        "        \n",
        "    def forward(self, x):\n",
        "        h0 = torch.zeros(self.num_layers, x.size(0), self.hidden_size).to(device) \n",
        "        out, _ = self.rnn(x, h0)  \n",
        "        out = out[:, -1, :]\n",
        "        out = self.fc(out)\n",
        "        return out\n"
      ],
      "metadata": {
        "id": "Z3kjLWk3sOZt"
      },
      "execution_count": 80,
      "outputs": []
    },
    {
      "cell_type": "code",
      "source": [
        "model = RNN(input_size, hidden_size, num_layers, num_classes).to(device)"
      ],
      "metadata": {
        "id": "jwSVz3USsPXz"
      },
      "execution_count": 81,
      "outputs": []
    },
    {
      "cell_type": "code",
      "source": [
        "criterion = nn.CrossEntropyLoss()\n",
        "optimizer = torch.optim.Adam(model.parameters(), lr=learning_rate)  "
      ],
      "metadata": {
        "id": "rw0QegPjsRE2"
      },
      "execution_count": 82,
      "outputs": []
    },
    {
      "cell_type": "code",
      "source": [
        "n_total_steps = len(train_loader)\n",
        "for epoch in range(num_epochs):\n",
        "    for i, (images, labels) in enumerate(train_loader):\n",
        "        images = images.reshape(-1, sequence_length, input_size).to(device)\n",
        "        labels = labels.to(device)\n",
        "        labels = labels.type(torch.LongTensor)\n",
        "        # Forward pass\n",
        "        outputs = model(images)\n",
        "        loss = criterion(outputs, labels)\n",
        "        \n",
        "        # Backward and optimize\n",
        "        optimizer.zero_grad()\n",
        "        loss.backward()\n",
        "        optimizer.step()\n",
        "        \n",
        "        if (i+1) % 10 == 0:\n",
        "            print (f'Epoch [{epoch+1}/{num_epochs}], Step [{i+1}/{n_total_steps}], Loss: {loss.item():.4f}')"
      ],
      "metadata": {
        "colab": {
          "base_uri": "https://localhost:8080/"
        },
        "id": "7T2fapl-sUXb",
        "outputId": "d2b04261-c764-4527-dcfe-67109c9fad6d"
      },
      "execution_count": 83,
      "outputs": [
        {
          "output_type": "stream",
          "name": "stdout",
          "text": [
            "Epoch [1/2], Step [10/126], Loss: 0.0248\n",
            "Epoch [1/2], Step [20/126], Loss: 3.6469\n",
            "Epoch [1/2], Step [30/126], Loss: 2.2203\n",
            "Epoch [1/2], Step [40/126], Loss: 1.3762\n",
            "Epoch [1/2], Step [50/126], Loss: 3.7078\n",
            "Epoch [1/2], Step [60/126], Loss: 2.8431\n",
            "Epoch [1/2], Step [70/126], Loss: 4.1841\n",
            "Epoch [1/2], Step [80/126], Loss: 0.3217\n",
            "Epoch [1/2], Step [90/126], Loss: 0.6142\n",
            "Epoch [1/2], Step [100/126], Loss: 2.0337\n",
            "Epoch [1/2], Step [110/126], Loss: 2.7226\n",
            "Epoch [1/2], Step [120/126], Loss: 3.8848\n",
            "Epoch [2/2], Step [10/126], Loss: 2.2314\n",
            "Epoch [2/2], Step [20/126], Loss: 3.1222\n",
            "Epoch [2/2], Step [30/126], Loss: 3.6302\n",
            "Epoch [2/2], Step [40/126], Loss: 3.8602\n",
            "Epoch [2/2], Step [50/126], Loss: 4.9388\n",
            "Epoch [2/2], Step [60/126], Loss: 2.5483\n",
            "Epoch [2/2], Step [70/126], Loss: 3.4451\n",
            "Epoch [2/2], Step [80/126], Loss: 0.4617\n",
            "Epoch [2/2], Step [90/126], Loss: 2.3113\n",
            "Epoch [2/2], Step [100/126], Loss: 2.2745\n",
            "Epoch [2/2], Step [110/126], Loss: 3.8612\n",
            "Epoch [2/2], Step [120/126], Loss: 4.1170\n"
          ]
        }
      ]
    }
  ]
}