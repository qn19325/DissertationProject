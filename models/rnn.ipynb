{
  "nbformat": 4,
  "nbformat_minor": 0,
  "metadata": {
    "colab": {
      "name": "rnn.ipynb",
      "provenance": [],
      "collapsed_sections": [],
      "authorship_tag": "ABX9TyNz2NrmNgwWVCFekcTfd/4+",
      "include_colab_link": true
    },
    "kernelspec": {
      "name": "python3",
      "display_name": "Python 3"
    },
    "language_info": {
      "name": "python"
    },
    "accelerator": "GPU"
  },
  "cells": [
    {
      "cell_type": "markdown",
      "metadata": {
        "id": "view-in-github",
        "colab_type": "text"
      },
      "source": [
        "<a href=\"https://colab.research.google.com/github/qn19325/individualProject/blob/main/rnn.ipynb\" target=\"_parent\"><img src=\"https://colab.research.google.com/assets/colab-badge.svg\" alt=\"Open In Colab\"/></a>"
      ]
    },
    {
      "cell_type": "code",
      "source": [
        "import torch\n",
        "import torch.nn as nn\n",
        "from torch.utils.data import Dataset, DataLoader\n",
        "import torchvision\n",
        "import torchvision.transforms as transforms\n",
        "import pandas as pd\n",
        "import os\n",
        "import matplotlib.pyplot as plt\n",
        "import numpy as np\n",
        "import random"
      ],
      "metadata": {
        "id": "dUpCWMLRrzl3"
      },
      "execution_count": 127,
      "outputs": []
    },
    {
      "cell_type": "code",
      "source": [
        "device = torch.device('cuda' if torch.cuda.is_available() else 'cpu')\n",
        "print(device)"
      ],
      "metadata": {
        "colab": {
          "base_uri": "https://localhost:8080/"
        },
        "id": "oVfre1Uar_Nx",
        "outputId": "165fb2da-08e4-41e6-b746-3e6dd0481f94"
      },
      "execution_count": 2,
      "outputs": [
        {
          "output_type": "stream",
          "name": "stdout",
          "text": [
            "cuda\n"
          ]
        }
      ]
    },
    {
      "cell_type": "code",
      "source": [
        "class ImageDataLoader(Dataset):\n",
        "    def __init__(self, dir_=None):\n",
        "        self.data_df = pd.read_csv('data.csv')\n",
        "        self.dataset_len = len(self.data_df) # read the number of len of your csv files\n",
        "    def __getitem__(self, idx):\n",
        "        # load the next image\n",
        "        f_name_t = self.data_df['Filename'][idx]\n",
        "        f_name_tp1 = self.data_df['Filename'][idx+1]\n",
        "        label = self.data_df['Label'][idx]\n",
        "        img_t = torchvision.io.read_image('trainingData/{}'.format(f_name_t))\n",
        "        img_tp1 = torchvision.io.read_image('trainingData/{}'.format(f_name_tp1))\n",
        "        img_t = img_t.flatten(1,-1).float().div_(255.0)\n",
        "        img_tp1 = img_tp1.flatten(1,-1).float().div_(255.0)\n",
        "        input_seq = torch.cat((img_t, img_tp1), dim=0)\n",
        "        return input_seq, label\n",
        "    def __len__(self):\n",
        "        return self.dataset_len - 1"
      ],
      "metadata": {
        "id": "IxbHORRrsLUX"
      },
      "execution_count": 3,
      "outputs": []
    },
    {
      "cell_type": "code",
      "source": [
        "dataset = ImageDataLoader()\n",
        "dataloader = DataLoader(dataset, shuffle=False, batch_size=8)"
      ],
      "metadata": {
        "id": "Scw8xHCRvPvV"
      },
      "execution_count": 4,
      "outputs": []
    },
    {
      "cell_type": "code",
      "source": [
        "# functions to show an image\n",
        "def imshow(img):\n",
        "    npimg = img.numpy()\n",
        "    plt.imshow(np.transpose(npimg, (1, 2, 0)))\n",
        "\n",
        "imagesList = []\n",
        "for idx, (images, labels) in enumerate(dataloader):\n",
        "  images = images.reshape(-1,1,64,64)\n",
        "  imagesList.append(images)\n",
        "\n",
        "randomBatch = random.randrange(0,len(imagesList))\n",
        "print('Batch:', randomBatch)\n",
        "imshow(torchvision.utils.make_grid(imagesList[randomBatch]))"
      ],
      "metadata": {
        "id": "qQUX_H7Bzj8r",
        "outputId": "45363009-9b54-45db-d04f-af9a3785212a",
        "colab": {
          "base_uri": "https://localhost:8080/",
          "height": 153
        }
      },
      "execution_count": 130,
      "outputs": [
        {
          "output_type": "stream",
          "name": "stdout",
          "text": [
            "Batch: 19\n"
          ]
        },
        {
          "output_type": "display_data",
          "data": {
            "text/plain": [
              "<Figure size 432x288 with 1 Axes>"
            ],
            "image/png": "[encoded data removed]"
          },
          "metadata": {
            "needs_background": "light"
          }
        }
      ]
    },
    {
      "cell_type": "code",
      "source": [
        "num_epochs = 10\n",
        "learning_rate = 0.001\n",
        "input_size = 4096\n",
        "output_size = 1\n",
        "sequence_length = 2\n",
        "hidden_size = 128\n",
        "num_layers = 2"
      ],
      "metadata": {
        "id": "Tm-qb1l8v6Bw"
      },
      "execution_count": 141,
      "outputs": []
    },
    {
      "cell_type": "code",
      "source": [
        "class RNN(nn.Module):\n",
        "    def __init__(self, batch_size, n_steps, n_inputs, n_neurons, n_outputs):\n",
        "        super(RNN, self).__init__()\n",
        "        \n",
        "        self.n_neurons = n_neurons\n",
        "        self.batch_size = batch_size\n",
        "        self.n_steps = n_steps\n",
        "        self.n_inputs = n_inputs\n",
        "        self.n_outputs = n_outputs\n",
        "        \n",
        "        self.basic_rnn = nn.RNN(self.n_inputs, self.n_neurons) \n",
        "        \n",
        "        self.FC = nn.Linear(self.n_neurons, self.n_outputs)\n",
        "        \n",
        "    def init_hidden(self,):\n",
        "        # (num_layers, batch_size, n_neurons)\n",
        "        return (torch.zeros(1, self.batch_size, self.n_neurons))\n",
        "        \n",
        "    def forward(self, X):\n",
        "        # transforms X to dimensions: n_steps X batch_size X n_inputs\n",
        "        X = X.permute(1, 0, 2) \n",
        "        \n",
        "        self.batch_size = X.size(1)\n",
        "        self.hidden = self.init_hidden()\n",
        "        \n",
        "        lstm_out, self.hidden = self.basic_rnn(X, self.hidden)      \n",
        "        out = self.FC(self.hidden)\n",
        "        \n",
        "        return out.view(-1, self.n_outputs) # batch_size X n_output"
      ],
      "metadata": {
        "id": "AdRMLBUKwByx"
      },
      "execution_count": 133,
      "outputs": []
    },
    {
      "cell_type": "code",
      "source": [
        "model = RNN(8, sequence_length, input_size, hidden_size, output_size)"
      ],
      "metadata": {
        "id": "3588JKT6wELx"
      },
      "execution_count": 134,
      "outputs": []
    },
    {
      "cell_type": "code",
      "source": [
        "criterion = nn.MSELoss()\n",
        "optimizer = torch.optim.Adam(model.parameters(), lr=learning_rate)"
      ],
      "metadata": {
        "id": "uDrZ2YmawHda"
      },
      "execution_count": 131,
      "outputs": []
    },
    {
      "cell_type": "code",
      "source": [
        "def get_accuracy(logit, target, batch_size):\n",
        "    ''' Obtain accuracy for training round '''\n",
        "    corrects = (torch.max(logit, 1)[1].view(target.size()).data == target.data).sum()\n",
        "    accuracy = 100.0 * corrects/batch_size\n",
        "    return accuracy.item()"
      ],
      "metadata": {
        "id": "H1RWBGtIwJLF"
      },
      "execution_count": 137,
      "outputs": []
    },
    {
      "cell_type": "code",
      "source": [
        "for epoch in range(num_epochs):  # loop over the dataset multiple times\n",
        "    train_running_loss = 0.0\n",
        "    train_acc = 0.0\n",
        "    model.train()\n",
        "    \n",
        "    # TRAINING ROUND\n",
        "    for i, data in enumerate(dataloader):\n",
        "         # zero the parameter gradients\n",
        "        optimizer.zero_grad()\n",
        "        \n",
        "        # reset hidden states\n",
        "        model.hidden = model.init_hidden() \n",
        "        \n",
        "        # get the inputs\n",
        "        inputs, labels = data\n",
        "\n",
        "        # check image inputs\n",
        "        images = inputs.reshape(-1,1,64,64)\n",
        "        imshow(torchvision.utils.make_grid(images))\n",
        "\n",
        "        # forward + backward + optimize\n",
        "        outputs = model(inputs)\n",
        "\n",
        "        loss = criterion(outputs, labels.float())\n",
        "        loss.backward()\n",
        "        optimizer.step()\n",
        "\n",
        "        train_running_loss += loss.detach().item()\n",
        "        train_acc += get_accuracy(outputs, labels, 8)\n",
        "         \n",
        "    model.eval()\n",
        "    print('Epoch:  %d | Loss: %.4f | Train Accuracy: %.2f' \n",
        "          %(epoch, train_running_loss / i, train_acc/i))"
      ],
      "metadata": {
        "id": "4PIYqRqaA8yq",
        "outputId": "7e3c1652-6c28-4b5a-95d2-1ce097956d43",
        "colab": {
          "base_uri": "https://localhost:8080/",
          "height": 367
        }
      },
      "execution_count": 143,
      "outputs": [
        {
          "output_type": "stream",
          "name": "stderr",
          "text": [
            "/usr/local/lib/python3.7/dist-packages/torch/nn/modules/loss.py:520: UserWarning: Using a target size (torch.Size([8])) that is different to the input size (torch.Size([8, 1])). This will likely lead to incorrect results due to broadcasting. Please ensure they have the same size.\n",
            "  return F.mse_loss(input, target, reduction=self.reduction)\n",
            "/usr/local/lib/python3.7/dist-packages/torch/nn/modules/loss.py:520: UserWarning: Using a target size (torch.Size([3])) that is different to the input size (torch.Size([3, 1])). This will likely lead to incorrect results due to broadcasting. Please ensure they have the same size.\n",
            "  return F.mse_loss(input, target, reduction=self.reduction)\n"
          ]
        },
        {
          "output_type": "stream",
          "name": "stdout",
          "text": [
            "Epoch:  0 | Loss: 3707.4106 | Train Accuracy: 9.68\n",
            "Epoch:  1 | Loss: 3707.4106 | Train Accuracy: 9.68\n",
            "Epoch:  2 | Loss: 3707.4106 | Train Accuracy: 9.68\n",
            "Epoch:  3 | Loss: 3707.4106 | Train Accuracy: 9.68\n",
            "Epoch:  4 | Loss: 3707.4106 | Train Accuracy: 9.68\n",
            "Epoch:  5 | Loss: 3707.4106 | Train Accuracy: 9.68\n",
            "Epoch:  6 | Loss: 3707.4106 | Train Accuracy: 9.68\n",
            "Epoch:  7 | Loss: 3707.4106 | Train Accuracy: 9.68\n",
            "Epoch:  8 | Loss: 3707.4106 | Train Accuracy: 9.68\n",
            "Epoch:  9 | Loss: 3707.4106 | Train Accuracy: 9.68\n"
          ]
        },
        {
          "output_type": "display_data",
          "data": {
            "text/plain": [
              "<Figure size 432x288 with 1 Axes>"
            ],
            "image/png": "[encoded data removed]"
          },
          "metadata": {
            "needs_background": "light"
          }
        }
      ]
    }
  ]
}