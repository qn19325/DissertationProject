{
  "nbformat": 4,
  "nbformat_minor": 0,
  "metadata": {
    "colab": {
      "name": "ann.ipynb",
      "provenance": [],
      "authorship_tag": "ABX9TyOKcuzFPnrXZ6z3w89lgfuC",
      "include_colab_link": true
    },
    "kernelspec": {
      "name": "python3",
      "display_name": "Python 3"
    },
    "language_info": {
      "name": "python"
    },
    "accelerator": "GPU"
  },
  "cells": [
    {
      "cell_type": "markdown",
      "metadata": {
        "id": "view-in-github",
        "colab_type": "text"
      },
      "source": [
        "<a href=\"https://colab.research.google.com/github/qn19325/individualProject/blob/main/ann.ipynb\" target=\"_parent\"><img src=\"https://colab.research.google.com/assets/colab-badge.svg\" alt=\"Open In Colab\"/></a>"
      ]
    },
    {
      "cell_type": "code",
      "execution_count": 2,
      "metadata": {
        "id": "-CU-eXh8CqiW"
      },
      "outputs": [],
      "source": [
        "import torch\n",
        "import torch.nn as nn\n",
        "import torchvision\n",
        "import pandas as pd\n",
        "from torch.utils.data import Dataset, DataLoader"
      ]
    },
    {
      "cell_type": "code",
      "source": [
        "class ImageDataLoader(Dataset):\n",
        "    def __init__(self, dir_=None):\n",
        "        self.data_df = pd.read_csv('data.csv')\n",
        "        self.dataset_len = len(self.data_df) # read the number of len of your csv files\n",
        "    def __getitem__(self, idx):\n",
        "        # load the next image\n",
        "        f_name_t = self.data_df['Filename'][idx]\n",
        "        f_name_tp1 = self.data_df['Filename'][idx+1]\n",
        "        label = self.data_df['Label'][idx]\n",
        "        img_t = torchvision.io.read_image('trainingData/{}'.format(f_name_t))\n",
        "        img_tp1 = torchvision.io.read_image('trainingData/{}'.format(f_name_tp1))\n",
        "        # For ANN\n",
        "        img_t = img_t.flatten().float().div_(255.0)\n",
        "        img_tp1 = img_tp1.flatten().float().div_(255.0)\n",
        "        input_seq = torch.cat((img_t, img_tp1), dim=0)\n",
        "        return input_seq, label\n",
        "    def __len__(self):\n",
        "        return self.dataset_len - 1\n",
        "dataset = ImageDataLoader()\n",
        "dataloader = DataLoader(dataset, shuffle=False, batch_size=8)"
      ],
      "metadata": {
        "id": "BrByuDNVC21h"
      },
      "execution_count": 14,
      "outputs": []
    },
    {
      "cell_type": "code",
      "source": [
        "batch_size = 4\n",
        "input_size = 8192\n",
        "hidden_size = 128\n",
        "output_size = 1\n",
        "num_epochs = 100\n",
        "learning_rate = 0.05"
      ],
      "metadata": {
        "id": "B48mS1nODhDb"
      },
      "execution_count": 16,
      "outputs": []
    },
    {
      "cell_type": "code",
      "source": [
        "class ANN(nn.Module):\n",
        "    def __init__(self, input_size, hidden_size, output_size):\n",
        "        super(ANN, self).__init__()\n",
        "        self.fc1 = nn.Linear(input_size, hidden_size)   # hidden layer\n",
        "        self.fc2 = nn.Linear(hidden_size, output_size)   # output layer\n",
        "\n",
        "    def forward(self, x):\n",
        "        x = F.relu(self.fc1(x))      # activation function\n",
        "        x = self.fc2(x)             # linear output\n",
        "        return x"
      ],
      "metadata": {
        "id": "OSxyCLfkDZu9"
      },
      "execution_count": 7,
      "outputs": []
    },
    {
      "cell_type": "code",
      "source": [
        "model = ANN(input_size, hidden_size, output_size)"
      ],
      "metadata": {
        "id": "3CrG8XFmDcK5"
      },
      "execution_count": 8,
      "outputs": []
    },
    {
      "cell_type": "code",
      "source": [
        "criterion = nn.MSELoss()\n",
        "optimizer = torch.optim.Adam(model.parameters(), lr=learning_rate)"
      ],
      "metadata": {
        "id": "-ECXKbvPDkyy"
      },
      "execution_count": 17,
      "outputs": []
    },
    {
      "cell_type": "code",
      "source": [
        "for epoch in range(num_epochs):\n",
        "    for i, (images,labels) in enumerate(dataloader):\n",
        "        labels = (labels.float())\n",
        "        # Forward pass\n",
        "        outputs = model(images)\n",
        "        loss = criterion(outputs, labels)\n",
        "        \n",
        "        # Backward and optimize\n",
        "        optimizer.zero_grad()\n",
        "        loss.backward()\n",
        "        optimizer.step()\n",
        "\n",
        "    print (f'Epoch [{epoch+1}/{num_epochs}], Loss: {loss.item():.4f}')"
      ],
      "metadata": {
        "colab": {
          "base_uri": "https://localhost:8080/"
        },
        "id": "vNloLtKADnnE",
        "outputId": "26def542-77fb-4b97-e916-e93b35ef4f8c"
      },
      "execution_count": 18,
      "outputs": [
        {
          "output_type": "stream",
          "name": "stderr",
          "text": [
            "/usr/local/lib/python3.7/dist-packages/torch/nn/modules/loss.py:520: UserWarning: Using a target size (torch.Size([8])) that is different to the input size (torch.Size([8, 1])). This will likely lead to incorrect results due to broadcasting. Please ensure they have the same size.\n",
            "  return F.mse_loss(input, target, reduction=self.reduction)\n",
            "/usr/local/lib/python3.7/dist-packages/torch/nn/modules/loss.py:520: UserWarning: Using a target size (torch.Size([3])) that is different to the input size (torch.Size([3, 1])). This will likely lead to incorrect results due to broadcasting. Please ensure they have the same size.\n",
            "  return F.mse_loss(input, target, reduction=self.reduction)\n"
          ]
        },
        {
          "output_type": "stream",
          "name": "stdout",
          "text": [
            "Epoch [1/100], Loss: 5428.6245\n",
            "Epoch [2/100], Loss: 5278.3652\n",
            "Epoch [3/100], Loss: 5138.7563\n",
            "Epoch [4/100], Loss: 5007.5718\n",
            "Epoch [5/100], Loss: 4883.4839\n",
            "Epoch [6/100], Loss: 4765.7485\n",
            "Epoch [7/100], Loss: 4653.8677\n",
            "Epoch [8/100], Loss: 4547.4536\n",
            "Epoch [9/100], Loss: 4446.1870\n",
            "Epoch [10/100], Loss: 4349.7886\n",
            "Epoch [11/100], Loss: 4258.0044\n",
            "Epoch [12/100], Loss: 4170.6060\n",
            "Epoch [13/100], Loss: 4087.3745\n",
            "Epoch [14/100], Loss: 4008.1128\n",
            "Epoch [15/100], Loss: 3932.6272\n",
            "Epoch [16/100], Loss: 3860.7405\n",
            "Epoch [17/100], Loss: 3792.2834\n",
            "Epoch [18/100], Loss: 3727.0925\n",
            "Epoch [19/100], Loss: 3665.0139\n",
            "Epoch [20/100], Loss: 3605.9009\n",
            "Epoch [21/100], Loss: 3549.6138\n",
            "Epoch [22/100], Loss: 3496.0200\n",
            "Epoch [23/100], Loss: 3444.9927\n",
            "Epoch [24/100], Loss: 3396.4106\n",
            "Epoch [25/100], Loss: 3350.1580\n",
            "Epoch [26/100], Loss: 3306.1250\n",
            "Epoch [27/100], Loss: 3264.2048\n",
            "Epoch [28/100], Loss: 3224.2993\n",
            "Epoch [29/100], Loss: 3186.3127\n",
            "Epoch [30/100], Loss: 3150.1506\n",
            "Epoch [31/100], Loss: 3115.7300\n",
            "Epoch [32/100], Loss: 3082.9653\n",
            "Epoch [33/100], Loss: 3051.7803\n",
            "Epoch [34/100], Loss: 3022.0972\n",
            "Epoch [35/100], Loss: 2993.8457\n",
            "Epoch [36/100], Loss: 2966.9553\n",
            "Epoch [37/100], Loss: 2941.3633\n",
            "Epoch [38/100], Loss: 2917.0063\n",
            "Epoch [39/100], Loss: 2893.8264\n",
            "Epoch [40/100], Loss: 2871.7659\n",
            "Epoch [41/100], Loss: 2850.7700\n",
            "Epoch [42/100], Loss: 2830.7874\n",
            "Epoch [43/100], Loss: 2811.7734\n",
            "Epoch [44/100], Loss: 2793.6768\n",
            "Epoch [45/100], Loss: 2776.4573\n",
            "Epoch [46/100], Loss: 2760.0706\n",
            "Epoch [47/100], Loss: 2744.4761\n",
            "Epoch [48/100], Loss: 2729.6367\n",
            "Epoch [49/100], Loss: 2715.5154\n",
            "Epoch [50/100], Loss: 2702.0791\n",
            "Epoch [51/100], Loss: 2689.2932\n",
            "Epoch [52/100], Loss: 2677.1279\n",
            "Epoch [53/100], Loss: 2665.5518\n",
            "Epoch [54/100], Loss: 2654.5369\n",
            "Epoch [55/100], Loss: 2644.0566\n",
            "Epoch [56/100], Loss: 2634.0837\n",
            "Epoch [57/100], Loss: 2624.5955\n",
            "Epoch [58/100], Loss: 2615.5667\n",
            "Epoch [59/100], Loss: 2606.9766\n",
            "Epoch [60/100], Loss: 2598.8040\n",
            "Epoch [61/100], Loss: 2591.0293\n",
            "Epoch [62/100], Loss: 2583.6316\n",
            "Epoch [63/100], Loss: 2576.5935\n",
            "Epoch [64/100], Loss: 2569.8967\n",
            "Epoch [65/100], Loss: 2563.5256\n",
            "Epoch [66/100], Loss: 2557.4639\n",
            "Epoch [67/100], Loss: 2551.6975\n",
            "Epoch [68/100], Loss: 2546.2122\n",
            "Epoch [69/100], Loss: 2540.9939\n",
            "Epoch [70/100], Loss: 2536.0293\n",
            "Epoch [71/100], Loss: 2531.3074\n",
            "Epoch [72/100], Loss: 2526.8132\n",
            "Epoch [73/100], Loss: 2522.5391\n",
            "Epoch [74/100], Loss: 2518.4739\n",
            "Epoch [75/100], Loss: 2514.6064\n",
            "Epoch [76/100], Loss: 2510.9277\n",
            "Epoch [77/100], Loss: 2507.4280\n",
            "Epoch [78/100], Loss: 2504.0994\n",
            "Epoch [79/100], Loss: 2500.9324\n",
            "Epoch [80/100], Loss: 2497.9219\n",
            "Epoch [81/100], Loss: 2495.0566\n",
            "Epoch [82/100], Loss: 2492.3330\n",
            "Epoch [83/100], Loss: 2489.7410\n",
            "Epoch [84/100], Loss: 2487.2756\n",
            "Epoch [85/100], Loss: 2484.9314\n",
            "Epoch [86/100], Loss: 2482.7009\n",
            "Epoch [87/100], Loss: 2480.5798\n",
            "Epoch [88/100], Loss: 2478.5623\n",
            "Epoch [89/100], Loss: 2476.6436\n",
            "Epoch [90/100], Loss: 2474.8181\n",
            "Epoch [91/100], Loss: 2473.0820\n",
            "Epoch [92/100], Loss: 2471.4314\n",
            "Epoch [93/100], Loss: 2469.8611\n",
            "Epoch [94/100], Loss: 2468.3674\n",
            "Epoch [95/100], Loss: 2466.9473\n",
            "Epoch [96/100], Loss: 2465.5969\n",
            "Epoch [97/100], Loss: 2464.3123\n",
            "Epoch [98/100], Loss: 2463.0901\n",
            "Epoch [99/100], Loss: 2461.9280\n",
            "Epoch [100/100], Loss: 2460.8240\n"
          ]
        }
      ]
    }
  ]
}