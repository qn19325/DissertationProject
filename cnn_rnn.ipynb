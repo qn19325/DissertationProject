{
  "nbformat": 4,
  "nbformat_minor": 0,
  "metadata": {
    "colab": {
      "name": "cnn-rnn.ipynb",
      "provenance": [],
      "collapsed_sections": [],
      "authorship_tag": "ABX9TyMJ/v2DfEfObUolYm3/vkAm",
      "include_colab_link": true
    },
    "kernelspec": {
      "name": "python3",
      "display_name": "Python 3"
    },
    "language_info": {
      "name": "python"
    },
    "accelerator": "GPU"
  },
  "cells": [
    {
      "cell_type": "markdown",
      "metadata": {
        "id": "view-in-github",
        "colab_type": "text"
      },
      "source": [
        "<a href=\"https://colab.research.google.com/github/qn19325/individualProject/blob/main/cnn_rnn.ipynb\" target=\"_parent\"><img src=\"https://colab.research.google.com/assets/colab-badge.svg\" alt=\"Open In Colab\"/></a>"
      ]
    },
    {
      "cell_type": "code",
      "execution_count": 52,
      "metadata": {
        "id": "3pcrcqjLMJNr",
        "colab": {
          "base_uri": "https://localhost:8080/"
        },
        "outputId": "b24ab69d-20ec-456c-fdc4-a453b310a199"
      },
      "outputs": [
        {
          "output_type": "stream",
          "name": "stdout",
          "text": [
            "Drive already mounted at /content/gdrive; to attempt to forcibly remount, call drive.mount(\"/content/gdrive\", force_remount=True).\n"
          ]
        }
      ],
      "source": [
        "from google.colab import drive\n",
        "\n",
        "drive.mount('/content/gdrive')"
      ]
    },
    {
      "cell_type": "code",
      "source": [
        "import torch\n",
        "import torch.nn as nn\n",
        "from torch.utils.data import Dataset, DataLoader\n",
        "import torchvision\n",
        "import torchvision.transforms as transforms\n",
        "import pandas as pd\n",
        "import os\n",
        "import matplotlib.pyplot as plt\n",
        "import numpy as np\n",
        "import random"
      ],
      "metadata": {
        "id": "coYAG5g8MklR"
      },
      "execution_count": 53,
      "outputs": []
    },
    {
      "cell_type": "code",
      "source": [
        "device = torch.device('cuda' if torch.cuda.is_available() else 'cpu')\n",
        "print(device)"
      ],
      "metadata": {
        "colab": {
          "base_uri": "https://localhost:8080/"
        },
        "id": "C3mhKozdMgxe",
        "outputId": "e96b4016-3211-441e-f954-d04de1f73b21"
      },
      "execution_count": 54,
      "outputs": [
        {
          "output_type": "stream",
          "name": "stdout",
          "text": [
            "cuda\n"
          ]
        }
      ]
    },
    {
      "cell_type": "code",
      "source": [
        "class ImageDataLoader(Dataset):\n",
        "    def __init__(self, dir_=None):\n",
        "        self.data_df = pd.read_csv('gdrive/MyDrive/data.csv')\n",
        "        self.dataset_len = len(self.data_df) # read the number of len of your csv files\n",
        "    def __getitem__(self, idx):\n",
        "        # load the next image\n",
        "        f_name_t = self.data_df['Filename'][idx]\n",
        "        f_name_tp1 = self.data_df['Filename'][idx+1]\n",
        "        label = self.data_df['Label'][idx]\n",
        "        img_t = torchvision.io.read_image('gdrive/MyDrive/trainingData/{}'.format(f_name_t))\n",
        "        img_tp1 = torchvision.io.read_image('gdrive/MyDrive/trainingData/{}'.format(f_name_tp1))\n",
        "        img_t = img_t.float().div_(255.0)\n",
        "        img_tp1 = img_tp1.float().div_(255.0)\n",
        "        return img_t, img_tp1, label\n",
        "    def __len__(self):\n",
        "        return self.dataset_len - 1"
      ],
      "metadata": {
        "id": "Wn1hd26kMovt"
      },
      "execution_count": 55,
      "outputs": []
    },
    {
      "cell_type": "code",
      "source": [
        "dataset = ImageDataLoader()\n",
        "dataloader = DataLoader(dataset, shuffle=False, batch_size=8)"
      ],
      "metadata": {
        "id": "lgxLiik4NIGc"
      },
      "execution_count": 56,
      "outputs": []
    },
    {
      "cell_type": "code",
      "source": [
        "class Encoder(nn.Module):\n",
        "    def __init__(self):\n",
        "        super(Encoder, self).__init__()\n",
        "        self.cnn = nn.Sequential(\n",
        "            nn.Conv2d(1, 16, 1, 1),\n",
        "            nn.ReLU(),\n",
        "            nn.Conv2d(16, 32, 1, 1),\n",
        "            nn.ReLU(),\n",
        "            nn.Flatten()\n",
        "        )\n",
        "    def forward(self, x):\n",
        "        state = self.cnn(x)\n",
        "        # print('size of the state after CNN ',state.size())\n",
        "        return state"
      ],
      "metadata": {
        "id": "43ZUIXSnNOIq"
      },
      "execution_count": 57,
      "outputs": []
    },
    {
      "cell_type": "code",
      "source": [
        "encoder = Encoder()"
      ],
      "metadata": {
        "id": "V6SJkyc5NiQv"
      },
      "execution_count": 58,
      "outputs": []
    },
    {
      "cell_type": "code",
      "source": [
        "num_epochs = 10\n",
        "learning_rate = 0.001\n",
        "input_size = 131072\n",
        "output_size = 1\n",
        "sequence_length = 2\n",
        "hidden_size = 128\n",
        "num_layers = 2"
      ],
      "metadata": {
        "id": "2x4blQUUSLB5"
      },
      "execution_count": 59,
      "outputs": []
    },
    {
      "cell_type": "code",
      "source": [
        "class RNN(nn.Module):\n",
        "    def __init__(self, input_size, hidden_size, num_layers, output_size):\n",
        "        super(RNN, self).__init__()\n",
        "        self.num_layers = num_layers\n",
        "        self.hidden_size = hidden_size\n",
        "        self.rnn = nn.RNN(input_size, hidden_size, num_layers, batch_first=True)\n",
        "        self.fc = nn.Linear(hidden_size, output_size)\n",
        "        \n",
        "    def forward(self, x):\n",
        "        h0 = torch.zeros(self.num_layers, x.size(0), self.hidden_size)\n",
        "        out, _ = self.rnn(x, h0)  \n",
        "        # out = out[:, -1]\n",
        "        out = self.fc(out)\n",
        "        return out"
      ],
      "metadata": {
        "id": "cZ42l4tSSPTL"
      },
      "execution_count": 60,
      "outputs": []
    },
    {
      "cell_type": "code",
      "source": [
        "model = RNN(input_size, hidden_size, num_layers, output_size)"
      ],
      "metadata": {
        "id": "OncSMm5ESTiT"
      },
      "execution_count": 61,
      "outputs": []
    },
    {
      "cell_type": "code",
      "source": [
        "criterion = nn.MSELoss()\n",
        "optimizer = torch.optim.Adam(model.parameters(), lr=learning_rate)"
      ],
      "metadata": {
        "id": "344Q3ndpSc3d"
      },
      "execution_count": 62,
      "outputs": []
    },
    {
      "cell_type": "code",
      "source": [
        "n_total_steps = len(dataloader)\n",
        "for epoch in range(num_epochs):\n",
        "    for i, (image1, image2, label) in enumerate(dataloader):\n",
        "        image1, image2, label = next(iter(dataloader))\n",
        "        output = encoder(image1)\n",
        "        output1 = encoder(image2)\n",
        "        output = output.reshape(8,1,-1)\n",
        "        output1 = output1.reshape(8,1,-1)\n",
        "        seq = torch.cat((output, output1), dim=1)\n",
        "        label = (label.float())\n",
        "\n",
        "        # Forward pass\n",
        "        outputs = model(seq)\n",
        "        loss = criterion(outputs[:,-1], label)\n",
        "        \n",
        "        # Backward and optimize\n",
        "        optimizer.zero_grad()\n",
        "        loss.backward()\n",
        "        optimizer.step()\n",
        "        if (i+1) % 10 == 0:\n",
        "            print (f'Epoch [{epoch+1}/{num_epochs}] | Step [{i+1}/{n_total_steps}] | Loss: {loss.item():.4f}')"
      ],
      "metadata": {
        "colab": {
          "base_uri": "https://localhost:8080/"
        },
        "id": "fgJB44u5Sff7",
        "outputId": "735d03f7-93db-41cb-f788-28984993f9cc"
      },
      "execution_count": 63,
      "outputs": [
        {
          "output_type": "stream",
          "name": "stderr",
          "text": [
            "/usr/local/lib/python3.7/dist-packages/torch/nn/modules/loss.py:520: UserWarning: Using a target size (torch.Size([8])) that is different to the input size (torch.Size([8, 1])). This will likely lead to incorrect results due to broadcasting. Please ensure they have the same size.\n",
            "  return F.mse_loss(input, target, reduction=self.reduction)\n"
          ]
        },
        {
          "output_type": "stream",
          "name": "stdout",
          "text": [
            "Epoch [1/10] | Step [10/32] | Loss: 0.2603\n",
            "Epoch [1/10] | Step [20/32] | Loss: 0.0715\n",
            "Epoch [1/10] | Step [30/32] | Loss: 0.0348\n",
            "Epoch [2/10] | Step [10/32] | Loss: 0.0087\n",
            "Epoch [2/10] | Step [20/32] | Loss: 0.0040\n",
            "Epoch [2/10] | Step [30/32] | Loss: 0.0015\n",
            "Epoch [3/10] | Step [10/32] | Loss: 0.0003\n",
            "Epoch [3/10] | Step [20/32] | Loss: 0.0001\n",
            "Epoch [3/10] | Step [30/32] | Loss: 0.0000\n",
            "Epoch [4/10] | Step [10/32] | Loss: 0.0000\n",
            "Epoch [4/10] | Step [20/32] | Loss: 0.0000\n",
            "Epoch [4/10] | Step [30/32] | Loss: 0.0000\n",
            "Epoch [5/10] | Step [10/32] | Loss: 0.0000\n",
            "Epoch [5/10] | Step [20/32] | Loss: 0.0000\n",
            "Epoch [5/10] | Step [30/32] | Loss: 0.0000\n",
            "Epoch [6/10] | Step [10/32] | Loss: 0.0000\n",
            "Epoch [6/10] | Step [20/32] | Loss: 0.0000\n",
            "Epoch [6/10] | Step [30/32] | Loss: 0.0000\n",
            "Epoch [7/10] | Step [10/32] | Loss: 0.0000\n",
            "Epoch [7/10] | Step [20/32] | Loss: 0.0000\n",
            "Epoch [7/10] | Step [30/32] | Loss: 0.0000\n",
            "Epoch [8/10] | Step [10/32] | Loss: 0.0000\n",
            "Epoch [8/10] | Step [20/32] | Loss: 0.0000\n",
            "Epoch [8/10] | Step [30/32] | Loss: 0.0000\n",
            "Epoch [9/10] | Step [10/32] | Loss: 0.0000\n",
            "Epoch [9/10] | Step [20/32] | Loss: 0.0000\n",
            "Epoch [9/10] | Step [30/32] | Loss: 0.0000\n",
            "Epoch [10/10] | Step [10/32] | Loss: 0.0000\n",
            "Epoch [10/10] | Step [20/32] | Loss: 0.0000\n",
            "Epoch [10/10] | Step [30/32] | Loss: 0.0000\n"
          ]
        }
      ]
    }
  ]
}