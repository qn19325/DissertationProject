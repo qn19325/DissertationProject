{
  "nbformat": 4,
  "nbformat_minor": 0,
  "metadata": {
    "colab": {
      "name": "cnn-rnn.ipynb",
      "provenance": [],
      "collapsed_sections": [],
      "authorship_tag": "ABX9TyN25uA6bKWEBiFPtHgPV6/g",
      "include_colab_link": true
    },
    "kernelspec": {
      "name": "python3",
      "display_name": "Python 3"
    },
    "language_info": {
      "name": "python"
    },
    "accelerator": "GPU",
    "widgets": {
      "application/vnd.jupyter.widget-state+json": {
        "56d0538737444c90a004fa33c2405505": {
          "model_module": "@jupyter-widgets/controls",
          "model_name": "VBoxModel",
          "model_module_version": "1.5.0",
          "state": {
            "_dom_classes": [],
            "_model_module": "@jupyter-widgets/controls",
            "_model_module_version": "1.5.0",
            "_model_name": "VBoxModel",
            "_view_count": null,
            "_view_module": "@jupyter-widgets/controls",
            "_view_module_version": "1.5.0",
            "_view_name": "VBoxView",
            "box_style": "",
            "children": [
              "IPY_MODEL_ce41fb52fd9c4356b4dc89523d6d4ee3",
              "IPY_MODEL_b6caf7a0f0d548d0bf7589b72ea1347b"
            ],
            "layout": "IPY_MODEL_8ebe75587e1e4ae2b245c4cac59aa281"
          }
        },
        "ce41fb52fd9c4356b4dc89523d6d4ee3": {
          "model_module": "@jupyter-widgets/controls",
          "model_name": "LabelModel",
          "model_module_version": "1.5.0",
          "state": {
            "_dom_classes": [],
            "_model_module": "@jupyter-widgets/controls",
            "_model_module_version": "1.5.0",
            "_model_name": "LabelModel",
            "_view_count": null,
            "_view_module": "@jupyter-widgets/controls",
            "_view_module_version": "1.5.0",
            "_view_name": "LabelView",
            "description": "",
            "description_tooltip": null,
            "layout": "IPY_MODEL_3c01ff6583b94939a25252bf820511a9",
            "placeholder": "​",
            "style": "IPY_MODEL_4ae565db4e784f98928252c54e82ce2c",
            "value": "0.014 MB of 0.014 MB uploaded (0.000 MB deduped)\r"
          }
        },
        "b6caf7a0f0d548d0bf7589b72ea1347b": {
          "model_module": "@jupyter-widgets/controls",
          "model_name": "FloatProgressModel",
          "model_module_version": "1.5.0",
          "state": {
            "_dom_classes": [],
            "_model_module": "@jupyter-widgets/controls",
            "_model_module_version": "1.5.0",
            "_model_name": "FloatProgressModel",
            "_view_count": null,
            "_view_module": "@jupyter-widgets/controls",
            "_view_module_version": "1.5.0",
            "_view_name": "ProgressView",
            "bar_style": "",
            "description": "",
            "description_tooltip": null,
            "layout": "IPY_MODEL_4c8c382fb6714040932a0345961b5235",
            "max": 1,
            "min": 0,
            "orientation": "horizontal",
            "style": "IPY_MODEL_ade8f4e569894f389a999c407e0bf493",
            "value": 1
          }
        },
        "8ebe75587e1e4ae2b245c4cac59aa281": {
          "model_module": "@jupyter-widgets/base",
          "model_name": "LayoutModel",
          "model_module_version": "1.2.0",
          "state": {
            "_model_module": "@jupyter-widgets/base",
            "_model_module_version": "1.2.0",
            "_model_name": "LayoutModel",
            "_view_count": null,
            "_view_module": "@jupyter-widgets/base",
            "_view_module_version": "1.2.0",
            "_view_name": "LayoutView",
            "align_content": null,
            "align_items": null,
            "align_self": null,
            "border": null,
            "bottom": null,
            "display": null,
            "flex": null,
            "flex_flow": null,
            "grid_area": null,
            "grid_auto_columns": null,
            "grid_auto_flow": null,
            "grid_auto_rows": null,
            "grid_column": null,
            "grid_gap": null,
            "grid_row": null,
            "grid_template_areas": null,
            "grid_template_columns": null,
            "grid_template_rows": null,
            "height": null,
            "justify_content": null,
            "justify_items": null,
            "left": null,
            "margin": null,
            "max_height": null,
            "max_width": null,
            "min_height": null,
            "min_width": null,
            "object_fit": null,
            "object_position": null,
            "order": null,
            "overflow": null,
            "overflow_x": null,
            "overflow_y": null,
            "padding": null,
            "right": null,
            "top": null,
            "visibility": null,
            "width": null
          }
        },
        "3c01ff6583b94939a25252bf820511a9": {
          "model_module": "@jupyter-widgets/base",
          "model_name": "LayoutModel",
          "model_module_version": "1.2.0",
          "state": {
            "_model_module": "@jupyter-widgets/base",
            "_model_module_version": "1.2.0",
            "_model_name": "LayoutModel",
            "_view_count": null,
            "_view_module": "@jupyter-widgets/base",
            "_view_module_version": "1.2.0",
            "_view_name": "LayoutView",
            "align_content": null,
            "align_items": null,
            "align_self": null,
            "border": null,
            "bottom": null,
            "display": null,
            "flex": null,
            "flex_flow": null,
            "grid_area": null,
            "grid_auto_columns": null,
            "grid_auto_flow": null,
            "grid_auto_rows": null,
            "grid_column": null,
            "grid_gap": null,
            "grid_row": null,
            "grid_template_areas": null,
            "grid_template_columns": null,
            "grid_template_rows": null,
            "height": null,
            "justify_content": null,
            "justify_items": null,
            "left": null,
            "margin": null,
            "max_height": null,
            "max_width": null,
            "min_height": null,
            "min_width": null,
            "object_fit": null,
            "object_position": null,
            "order": null,
            "overflow": null,
            "overflow_x": null,
            "overflow_y": null,
            "padding": null,
            "right": null,
            "top": null,
            "visibility": null,
            "width": null
          }
        },
        "4ae565db4e784f98928252c54e82ce2c": {
          "model_module": "@jupyter-widgets/controls",
          "model_name": "DescriptionStyleModel",
          "model_module_version": "1.5.0",
          "state": {
            "_model_module": "@jupyter-widgets/controls",
            "_model_module_version": "1.5.0",
            "_model_name": "DescriptionStyleModel",
            "_view_count": null,
            "_view_module": "@jupyter-widgets/base",
            "_view_module_version": "1.2.0",
            "_view_name": "StyleView",
            "description_width": ""
          }
        },
        "4c8c382fb6714040932a0345961b5235": {
          "model_module": "@jupyter-widgets/base",
          "model_name": "LayoutModel",
          "model_module_version": "1.2.0",
          "state": {
            "_model_module": "@jupyter-widgets/base",
            "_model_module_version": "1.2.0",
            "_model_name": "LayoutModel",
            "_view_count": null,
            "_view_module": "@jupyter-widgets/base",
            "_view_module_version": "1.2.0",
            "_view_name": "LayoutView",
            "align_content": null,
            "align_items": null,
            "align_self": null,
            "border": null,
            "bottom": null,
            "display": null,
            "flex": null,
            "flex_flow": null,
            "grid_area": null,
            "grid_auto_columns": null,
            "grid_auto_flow": null,
            "grid_auto_rows": null,
            "grid_column": null,
            "grid_gap": null,
            "grid_row": null,
            "grid_template_areas": null,
            "grid_template_columns": null,
            "grid_template_rows": null,
            "height": null,
            "justify_content": null,
            "justify_items": null,
            "left": null,
            "margin": null,
            "max_height": null,
            "max_width": null,
            "min_height": null,
            "min_width": null,
            "object_fit": null,
            "object_position": null,
            "order": null,
            "overflow": null,
            "overflow_x": null,
            "overflow_y": null,
            "padding": null,
            "right": null,
            "top": null,
            "visibility": null,
            "width": null
          }
        },
        "ade8f4e569894f389a999c407e0bf493": {
          "model_module": "@jupyter-widgets/controls",
          "model_name": "ProgressStyleModel",
          "model_module_version": "1.5.0",
          "state": {
            "_model_module": "@jupyter-widgets/controls",
            "_model_module_version": "1.5.0",
            "_model_name": "ProgressStyleModel",
            "_view_count": null,
            "_view_module": "@jupyter-widgets/base",
            "_view_module_version": "1.2.0",
            "_view_name": "StyleView",
            "bar_color": null,
            "description_width": ""
          }
        }
      }
    }
  },
  "cells": [
    {
      "cell_type": "markdown",
      "metadata": {
        "id": "view-in-github",
        "colab_type": "text"
      },
      "source": [
        "<a href=\"https://colab.research.google.com/github/qn19325/individualProject/blob/main/cnn_rnn.ipynb\" target=\"_parent\"><img src=\"https://colab.research.google.com/assets/colab-badge.svg\" alt=\"Open In Colab\"/></a>"
      ]
    },
    {
      "cell_type": "code",
      "execution_count": 42,
      "metadata": {
        "id": "3pcrcqjLMJNr",
        "colab": {
          "base_uri": "https://localhost:8080/"
        },
        "outputId": "f93c265f-f81f-43e2-dae4-d381051700c4"
      },
      "outputs": [
        {
          "output_type": "stream",
          "name": "stdout",
          "text": [
            "Drive already mounted at /content/gdrive; to attempt to forcibly remount, call drive.mount(\"/content/gdrive\", force_remount=True).\n"
          ]
        }
      ],
      "source": [
        "from google.colab import drive\n",
        "\n",
        "drive.mount('/content/gdrive')"
      ]
    },
    {
      "cell_type": "code",
      "source": [
        "!pip install wandb -qqq\n",
        "import wandb"
      ],
      "metadata": {
        "colab": {
          "base_uri": "https://localhost:8080/"
        },
        "id": "fUzy6nGN7iS0",
        "outputId": "4886d53f-2d9a-447d-f726-99f01b47aeef"
      },
      "execution_count": 85,
      "outputs": [
        {
          "output_type": "stream",
          "name": "stdout",
          "text": [
            "\u001b[K     |████████████████████████████████| 1.7 MB 5.3 MB/s \n",
            "\u001b[K     |████████████████████████████████| 181 kB 48.3 MB/s \n",
            "\u001b[K     |████████████████████████████████| 144 kB 47.6 MB/s \n",
            "\u001b[K     |████████████████████████████████| 63 kB 1.5 MB/s \n",
            "\u001b[?25h  Building wheel for pathtools (setup.py) ... \u001b[?25l\u001b[?25hdone\n"
          ]
        }
      ]
    },
    {
      "cell_type": "code",
      "source": [
        "wandb.login()"
      ],
      "metadata": {
        "colab": {
          "base_uri": "https://localhost:8080/",
          "height": 102
        },
        "id": "eHueh_AF7l0x",
        "outputId": "4927cfc3-33b6-453d-d8bd-662f78aab735"
      },
      "execution_count": 86,
      "outputs": [
        {
          "output_type": "display_data",
          "data": {
            "text/plain": [
              "<IPython.core.display.Javascript object>"
            ],
            "application/javascript": [
              "\n",
              "        window._wandbApiKey = new Promise((resolve, reject) => {\n",
              "            function loadScript(url) {\n",
              "            return new Promise(function(resolve, reject) {\n",
              "                let newScript = document.createElement(\"script\");\n",
              "                newScript.onerror = reject;\n",
              "                newScript.onload = resolve;\n",
              "                document.body.appendChild(newScript);\n",
              "                newScript.src = url;\n",
              "            });\n",
              "            }\n",
              "            loadScript(\"https://cdn.jsdelivr.net/npm/postmate/build/postmate.min.js\").then(() => {\n",
              "            const iframe = document.createElement('iframe')\n",
              "            iframe.style.cssText = \"width:0;height:0;border:none\"\n",
              "            document.body.appendChild(iframe)\n",
              "            const handshake = new Postmate({\n",
              "                container: iframe,\n",
              "                url: 'https://wandb.ai/authorize'\n",
              "            });\n",
              "            const timeout = setTimeout(() => reject(\"Couldn't auto authenticate\"), 5000)\n",
              "            handshake.then(function(child) {\n",
              "                child.on('authorize', data => {\n",
              "                    clearTimeout(timeout)\n",
              "                    resolve(data)\n",
              "                });\n",
              "            });\n",
              "            })\n",
              "        });\n",
              "    "
            ]
          },
          "metadata": {}
        },
        {
          "output_type": "stream",
          "name": "stderr",
          "text": [
            "\u001b[34m\u001b[1mwandb\u001b[0m: You can find your API key in your browser here: https://wandb.ai/authorize\n"
          ]
        },
        {
          "name": "stdout",
          "output_type": "stream",
          "text": [
            "wandb: Paste an API key from your profile and hit enter, or press ctrl+c to quit: ··········\n"
          ]
        },
        {
          "output_type": "stream",
          "name": "stderr",
          "text": [
            "\u001b[34m\u001b[1mwandb\u001b[0m: Appending key for api.wandb.ai to your netrc file: /root/.netrc\n"
          ]
        },
        {
          "output_type": "execute_result",
          "data": {
            "text/plain": [
              "True"
            ]
          },
          "metadata": {},
          "execution_count": 86
        }
      ]
    },
    {
      "cell_type": "code",
      "source": [
        "import torch\n",
        "import torch.nn as nn\n",
        "from torch.utils.data import Dataset, DataLoader\n",
        "import torchvision\n",
        "import pandas as pd\n",
        "import numpy as np"
      ],
      "metadata": {
        "id": "coYAG5g8MklR"
      },
      "execution_count": 87,
      "outputs": []
    },
    {
      "cell_type": "code",
      "source": [
        "device = torch.device('cuda' if torch.cuda.is_available() else 'cpu')\n",
        "print(device)"
      ],
      "metadata": {
        "colab": {
          "base_uri": "https://localhost:8080/"
        },
        "id": "C3mhKozdMgxe",
        "outputId": "773f15ff-f9f6-4a8a-bc2d-277952b913a7"
      },
      "execution_count": 88,
      "outputs": [
        {
          "output_type": "stream",
          "name": "stdout",
          "text": [
            "cuda\n"
          ]
        }
      ]
    },
    {
      "cell_type": "code",
      "source": [
        "class ImageDataLoader(Dataset):\n",
        "    def __init__(self, dir_=None):\n",
        "        self.data_df = pd.read_csv('gdrive/MyDrive/data.csv')\n",
        "        self.dataset_len = len(self.data_df) # read the number of len of your csv files\n",
        "    def __getitem__(self, idx):\n",
        "        # load the next image\n",
        "        f_name_t = self.data_df['Filename'][idx]\n",
        "        f_name_tp1 = self.data_df['Filename'][idx+1]\n",
        "        label = self.data_df['Label'][idx]\n",
        "        label = label.astype(np.float32) \n",
        "        label = np.true_divide(label, 10)\n",
        "        img_t = torchvision.io.read_image('gdrive/MyDrive/trainingData/{}'.format(f_name_t))\n",
        "        img_tp1 = torchvision.io.read_image('gdrive/MyDrive/trainingData/{}'.format(f_name_tp1))\n",
        "        img_t = img_t.float().div_(255.0)\n",
        "        img_tp1 = img_tp1.float().div_(255.0)\n",
        "        return img_t, img_tp1, label\n",
        "    def __len__(self):\n",
        "        return self.dataset_len - 1"
      ],
      "metadata": {
        "id": "Wn1hd26kMovt"
      },
      "execution_count": 89,
      "outputs": []
    },
    {
      "cell_type": "code",
      "source": [
        "dataset = ImageDataLoader()\n",
        "dataloader = DataLoader(dataset, shuffle=False, batch_size=8)"
      ],
      "metadata": {
        "id": "lgxLiik4NIGc"
      },
      "execution_count": 90,
      "outputs": []
    },
    {
      "cell_type": "code",
      "source": [
        "class Encoder(nn.Module):\n",
        "    def __init__(self):\n",
        "        super(Encoder, self).__init__()\n",
        "        self.cnn = nn.Sequential(\n",
        "            nn.Conv2d(1, 8, 1, 1),\n",
        "            nn.ReLU(),\n",
        "            nn.Conv2d(8, 16, 1, 1),\n",
        "            nn.ReLU(),\n",
        "            nn.Flatten()\n",
        "        )\n",
        "        self.fc1 = nn.Linear(65536, 128)\n",
        "    def forward(self, x):\n",
        "        state = self.cnn(x)\n",
        "        state = self.fc1(state)\n",
        "        # print('size of the state after CNN ',state.size())\n",
        "        return state"
      ],
      "metadata": {
        "id": "43ZUIXSnNOIq"
      },
      "execution_count": 91,
      "outputs": []
    },
    {
      "cell_type": "code",
      "source": [
        "encoder = Encoder().to(device)"
      ],
      "metadata": {
        "id": "V6SJkyc5NiQv"
      },
      "execution_count": 92,
      "outputs": []
    },
    {
      "cell_type": "code",
      "source": [
        "batch_size = 8\n",
        "num_epochs = 1000\n",
        "learning_rate = 0.0009\n",
        "input_size = 128\n",
        "output_size = 1\n",
        "sequence_length = 2\n",
        "hidden_size = 128\n",
        "num_layers = 1"
      ],
      "metadata": {
        "id": "2x4blQUUSLB5"
      },
      "execution_count": 93,
      "outputs": []
    },
    {
      "cell_type": "code",
      "source": [
        "class RNN(nn.Module):\n",
        "    def __init__(self, batch_size, input_size, hidden_size, num_layers, output_size):\n",
        "        super(RNN, self).__init__()\n",
        "        self.batch_size = batch_size\n",
        "        self.input_size = input_size\n",
        "        self.num_layers = num_layers\n",
        "        self.hidden_size = hidden_size\n",
        "        self.output_size = output_size\n",
        "        self.rnn = nn.RNN(self.input_size, self.hidden_size, num_layers, batch_first=True)\n",
        "        self.fc = nn.Linear(self.hidden_size, self.output_size)\n",
        "    def init_hidden(self):\n",
        "        return (torch.zeros(self.num_layers, self.batch_size, self.hidden_size).to(device))\n",
        "    def forward(self, x):\n",
        "        self.batch_size = x.size(0)\n",
        "        self.hidden = self.init_hidden()\n",
        "        out, self.hidden = self.rnn(x, self.hidden)\n",
        "        out = self.fc(out)\n",
        "        return out"
      ],
      "metadata": {
        "id": "cZ42l4tSSPTL"
      },
      "execution_count": 94,
      "outputs": []
    },
    {
      "cell_type": "code",
      "source": [
        "model = RNN(batch_size=batch_size, input_size=input_size, hidden_size=hidden_size, num_layers=num_layers, output_size=output_size).to(device)"
      ],
      "metadata": {
        "id": "OncSMm5ESTiT"
      },
      "execution_count": 95,
      "outputs": []
    },
    {
      "cell_type": "code",
      "source": [
        "criterion = nn.MSELoss()\n",
        "optimizer = torch.optim.Adam(model.parameters(), lr=learning_rate)"
      ],
      "metadata": {
        "id": "344Q3ndpSc3d"
      },
      "execution_count": 96,
      "outputs": []
    },
    {
      "cell_type": "code",
      "source": [
        "wandb.init(project=\"test-project\", entity=\"individual_project\")"
      ],
      "metadata": {
        "colab": {
          "base_uri": "https://localhost:8080/",
          "height": 107
        },
        "id": "MesE6ktG9E13",
        "outputId": "7793f393-2e62-4533-828f-178e6a14ad64"
      },
      "execution_count": 97,
      "outputs": [
        {
          "output_type": "stream",
          "name": "stderr",
          "text": [
            "\u001b[34m\u001b[1mwandb\u001b[0m: Currently logged in as: \u001b[33mindividual_project\u001b[0m (use `wandb login --relogin` to force relogin)\n"
          ]
        },
        {
          "output_type": "display_data",
          "data": {
            "text/plain": [
              "<IPython.core.display.HTML object>"
            ],
            "text/html": [
              "Tracking run with wandb version 0.12.11"
            ]
          },
          "metadata": {}
        },
        {
          "output_type": "display_data",
          "data": {
            "text/plain": [
              "<IPython.core.display.HTML object>"
            ],
            "text/html": [
              "Run data is saved locally in <code>/content/wandb/run-20220331_171000-2e1hbu51</code>"
            ]
          },
          "metadata": {}
        },
        {
          "output_type": "display_data",
          "data": {
            "text/plain": [
              "<IPython.core.display.HTML object>"
            ],
            "text/html": [
              "Syncing run <strong><a href=\"https://wandb.ai/individual_project/test-project/runs/2e1hbu51\" target=\"_blank\">feasible-capybara-1</a></strong> to <a href=\"https://wandb.ai/individual_project/test-project\" target=\"_blank\">Weights & Biases</a> (<a href=\"https://wandb.me/run\" target=\"_blank\">docs</a>)<br/>"
            ]
          },
          "metadata": {}
        },
        {
          "output_type": "execute_result",
          "data": {
            "text/html": [
              "<button onClick=\"this.nextSibling.style.display='block';this.style.display='none';\">Display W&B run</button><iframe src=\"https://wandb.ai/individual_project/test-project/runs/2e1hbu51?jupyter=true\" style=\"border:none;width:100%;height:420px;display:none;\"></iframe>"
            ],
            "text/plain": [
              "<wandb.sdk.wandb_run.Run at 0x7f83a50a6290>"
            ]
          },
          "metadata": {},
          "execution_count": 97
        }
      ]
    },
    {
      "cell_type": "code",
      "source": [
        "wandb.config = {\n",
        "  \"learning_rate\": learning_rate,\n",
        "  \"epochs\": num_epochs,\n",
        "  \"batch_size\": batch_size\n",
        "}"
      ],
      "metadata": {
        "id": "F5fyYm388xPh"
      },
      "execution_count": 98,
      "outputs": []
    },
    {
      "cell_type": "code",
      "source": [
        "n_total_steps = len(dataloader)\n",
        "for epoch in range(num_epochs):\n",
        "    runningLoss = 0\n",
        "    for i, (image1, image2, label) in enumerate(dataloader):\n",
        "        output1 = encoder(image1.to(device))\n",
        "        output2 = encoder(image2.to(device))\n",
        "        # print('o1 shape:', output1.size())\n",
        "        batch_size1 = len(output1)\n",
        "        batch_size2 = len(output2)\n",
        "        output1 = output1.reshape(batch_size1,1,-1)\n",
        "        output2 = output2.reshape(batch_size2,1,-1)\n",
        "        # print('o1 after shape:', output1.size())\n",
        "        seq = torch.cat((output1, output2.detach()), dim=1)\n",
        "        # print('seq size: ', seq.size())\n",
        "        label = (label.float())\n",
        "        # Forward pass\n",
        "        outputs = model(seq.to(device))\n",
        "        loss = criterion(outputs[:,-1].squeeze(), label.to(device))\n",
        "        wandb.log({\"loss\": loss})\n",
        "        # print(outputs[:,-1].squeeze())\n",
        "        # print(label)\n",
        "        # Backward and optimize\n",
        "        optimizer.zero_grad()\n",
        "        loss.backward()\n",
        "        optimizer.step()\n",
        "        runningLoss += loss\n",
        "    if epoch%10 == 0:\n",
        "        print (f'Epoch [{epoch+1}/{num_epochs}], Running Loss: {runningLoss:.4f}, Average Loss: {runningLoss/len(dataloader.dataset):.4f}')\n",
        "    runningLoss = 0\n",
        "wandb.finish()"
      ],
      "metadata": {
        "colab": {
          "base_uri": "https://localhost:8080/",
          "height": 1000,
          "referenced_widgets": [
            "56d0538737444c90a004fa33c2405505",
            "ce41fb52fd9c4356b4dc89523d6d4ee3",
            "b6caf7a0f0d548d0bf7589b72ea1347b",
            "8ebe75587e1e4ae2b245c4cac59aa281",
            "3c01ff6583b94939a25252bf820511a9",
            "4ae565db4e784f98928252c54e82ce2c",
            "4c8c382fb6714040932a0345961b5235",
            "ade8f4e569894f389a999c407e0bf493"
          ]
        },
        "id": "fgJB44u5Sff7",
        "outputId": "a559b95c-7fb2-4320-d712-fe3842ea50ce"
      },
      "execution_count": 100,
      "outputs": [
        {
          "output_type": "stream",
          "name": "stdout",
          "text": [
            "Epoch [1/1000], Running Loss: 127.7710, Average Loss: 0.5090\n",
            "Epoch [11/1000], Running Loss: 362.7186, Average Loss: 1.4451\n",
            "Epoch [21/1000], Running Loss: 362.0891, Average Loss: 1.4426\n",
            "Epoch [31/1000], Running Loss: 361.0649, Average Loss: 1.4385\n",
            "Epoch [41/1000], Running Loss: 360.7513, Average Loss: 1.4373\n",
            "Epoch [51/1000], Running Loss: 360.6877, Average Loss: 1.4370\n",
            "Epoch [61/1000], Running Loss: 358.7665, Average Loss: 1.4293\n",
            "Epoch [71/1000], Running Loss: 360.0424, Average Loss: 1.4344\n",
            "Epoch [81/1000], Running Loss: 359.1077, Average Loss: 1.4307\n",
            "Epoch [91/1000], Running Loss: 358.9489, Average Loss: 1.4301\n",
            "Epoch [101/1000], Running Loss: 365.8826, Average Loss: 1.4577\n",
            "Epoch [111/1000], Running Loss: 357.1895, Average Loss: 1.4231\n",
            "Epoch [121/1000], Running Loss: 357.8010, Average Loss: 1.4255\n",
            "Epoch [131/1000], Running Loss: 358.6025, Average Loss: 1.4287\n",
            "Epoch [141/1000], Running Loss: 359.5802, Average Loss: 1.4326\n",
            "Epoch [151/1000], Running Loss: 349.5533, Average Loss: 1.3926\n",
            "Epoch [161/1000], Running Loss: 356.6458, Average Loss: 1.4209\n",
            "Epoch [171/1000], Running Loss: 341.7212, Average Loss: 1.3614\n",
            "Epoch [181/1000], Running Loss: 339.0406, Average Loss: 1.3508\n",
            "Epoch [191/1000], Running Loss: 348.5266, Average Loss: 1.3886\n",
            "Epoch [201/1000], Running Loss: 325.4433, Average Loss: 1.2966\n",
            "Epoch [211/1000], Running Loss: 379.1899, Average Loss: 1.5107\n",
            "Epoch [221/1000], Running Loss: 377.1765, Average Loss: 1.5027\n",
            "Epoch [231/1000], Running Loss: 311.8127, Average Loss: 1.2423\n",
            "Epoch [241/1000], Running Loss: 308.6905, Average Loss: 1.2298\n",
            "Epoch [251/1000], Running Loss: 291.3139, Average Loss: 1.1606\n",
            "Epoch [261/1000], Running Loss: 285.5578, Average Loss: 1.1377\n",
            "Epoch [271/1000], Running Loss: 288.2722, Average Loss: 1.1485\n",
            "Epoch [281/1000], Running Loss: 274.0362, Average Loss: 1.0918\n",
            "Epoch [291/1000], Running Loss: 270.0383, Average Loss: 1.0758\n",
            "Epoch [301/1000], Running Loss: 267.0875, Average Loss: 1.0641\n",
            "Epoch [311/1000], Running Loss: 269.5753, Average Loss: 1.0740\n",
            "Epoch [321/1000], Running Loss: 263.8772, Average Loss: 1.0513\n",
            "Epoch [331/1000], Running Loss: 270.2997, Average Loss: 1.0769\n",
            "Epoch [341/1000], Running Loss: 255.9742, Average Loss: 1.0198\n",
            "Epoch [351/1000], Running Loss: 251.9445, Average Loss: 1.0038\n",
            "Epoch [361/1000], Running Loss: 252.4083, Average Loss: 1.0056\n",
            "Epoch [371/1000], Running Loss: 249.6794, Average Loss: 0.9947\n",
            "Epoch [381/1000], Running Loss: 258.8853, Average Loss: 1.0314\n",
            "Epoch [391/1000], Running Loss: 245.8700, Average Loss: 0.9796\n",
            "Epoch [401/1000], Running Loss: 242.1242, Average Loss: 0.9646\n",
            "Epoch [411/1000], Running Loss: 237.6933, Average Loss: 0.9470\n",
            "Epoch [421/1000], Running Loss: 239.2766, Average Loss: 0.9533\n",
            "Epoch [431/1000], Running Loss: 266.8693, Average Loss: 1.0632\n",
            "Epoch [441/1000], Running Loss: 231.0658, Average Loss: 0.9206\n",
            "Epoch [451/1000], Running Loss: 254.5533, Average Loss: 1.0142\n",
            "Epoch [461/1000], Running Loss: 229.7562, Average Loss: 0.9154\n",
            "Epoch [471/1000], Running Loss: 225.3489, Average Loss: 0.8978\n",
            "Epoch [481/1000], Running Loss: 220.8130, Average Loss: 0.8797\n",
            "Epoch [491/1000], Running Loss: 240.4217, Average Loss: 0.9579\n",
            "Epoch [501/1000], Running Loss: 221.0542, Average Loss: 0.8807\n",
            "Epoch [511/1000], Running Loss: 213.9322, Average Loss: 0.8523\n",
            "Epoch [521/1000], Running Loss: 219.4788, Average Loss: 0.8744\n",
            "Epoch [531/1000], Running Loss: 211.4455, Average Loss: 0.8424\n",
            "Epoch [541/1000], Running Loss: 228.1165, Average Loss: 0.9088\n",
            "Epoch [551/1000], Running Loss: 202.2240, Average Loss: 0.8057\n",
            "Epoch [561/1000], Running Loss: 205.6398, Average Loss: 0.8193\n",
            "Epoch [571/1000], Running Loss: 197.1007, Average Loss: 0.7853\n",
            "Epoch [581/1000], Running Loss: 194.1284, Average Loss: 0.7734\n",
            "Epoch [591/1000], Running Loss: 213.0711, Average Loss: 0.8489\n",
            "Epoch [601/1000], Running Loss: 193.9267, Average Loss: 0.7726\n",
            "Epoch [611/1000], Running Loss: 192.0417, Average Loss: 0.7651\n",
            "Epoch [621/1000], Running Loss: 195.8488, Average Loss: 0.7803\n",
            "Epoch [631/1000], Running Loss: 183.5030, Average Loss: 0.7311\n",
            "Epoch [641/1000], Running Loss: 207.4818, Average Loss: 0.8266\n",
            "Epoch [651/1000], Running Loss: 174.7072, Average Loss: 0.6960\n",
            "Epoch [661/1000], Running Loss: 172.5217, Average Loss: 0.6873\n",
            "Epoch [671/1000], Running Loss: 218.3488, Average Loss: 0.8699\n",
            "Epoch [681/1000], Running Loss: 165.9170, Average Loss: 0.6610\n",
            "Epoch [691/1000], Running Loss: 178.4374, Average Loss: 0.7109\n",
            "Epoch [701/1000], Running Loss: 165.4771, Average Loss: 0.6593\n",
            "Epoch [711/1000], Running Loss: 174.3157, Average Loss: 0.6945\n",
            "Epoch [721/1000], Running Loss: 160.8619, Average Loss: 0.6409\n",
            "Epoch [731/1000], Running Loss: 161.7740, Average Loss: 0.6445\n",
            "Epoch [741/1000], Running Loss: 169.6727, Average Loss: 0.6760\n",
            "Epoch [751/1000], Running Loss: 170.8551, Average Loss: 0.6807\n",
            "Epoch [761/1000], Running Loss: 149.4515, Average Loss: 0.5954\n",
            "Epoch [771/1000], Running Loss: 150.7212, Average Loss: 0.6005\n",
            "Epoch [781/1000], Running Loss: 151.5988, Average Loss: 0.6040\n",
            "Epoch [791/1000], Running Loss: 144.9075, Average Loss: 0.5773\n",
            "Epoch [801/1000], Running Loss: 186.1074, Average Loss: 0.7415\n",
            "Epoch [811/1000], Running Loss: 144.5219, Average Loss: 0.5758\n",
            "Epoch [821/1000], Running Loss: 138.3058, Average Loss: 0.5510\n",
            "Epoch [831/1000], Running Loss: 135.7866, Average Loss: 0.5410\n",
            "Epoch [841/1000], Running Loss: 132.0158, Average Loss: 0.5260\n",
            "Epoch [851/1000], Running Loss: 143.2413, Average Loss: 0.5707\n",
            "Epoch [861/1000], Running Loss: 148.1348, Average Loss: 0.5902\n",
            "Epoch [871/1000], Running Loss: 138.7487, Average Loss: 0.5528\n",
            "Epoch [881/1000], Running Loss: 153.6486, Average Loss: 0.6121\n",
            "Epoch [891/1000], Running Loss: 132.7198, Average Loss: 0.5288\n",
            "Epoch [901/1000], Running Loss: 122.3989, Average Loss: 0.4876\n",
            "Epoch [911/1000], Running Loss: 129.2319, Average Loss: 0.5149\n",
            "Epoch [921/1000], Running Loss: 129.9169, Average Loss: 0.5176\n",
            "Epoch [931/1000], Running Loss: 128.9011, Average Loss: 0.5136\n",
            "Epoch [941/1000], Running Loss: 141.8499, Average Loss: 0.5651\n",
            "Epoch [951/1000], Running Loss: 124.1138, Average Loss: 0.4945\n",
            "Epoch [961/1000], Running Loss: 120.5980, Average Loss: 0.4805\n",
            "Epoch [971/1000], Running Loss: 286.3987, Average Loss: 1.1410\n",
            "Epoch [981/1000], Running Loss: 123.3557, Average Loss: 0.4915\n",
            "Epoch [991/1000], Running Loss: 114.8378, Average Loss: 0.4575\n",
            "\n"
          ]
        },
        {
          "output_type": "display_data",
          "data": {
            "text/plain": [
              "<IPython.core.display.HTML object>"
            ],
            "text/html": [
              "Waiting for W&B process to finish... <strong style=\"color:green\">(success).</strong>"
            ]
          },
          "metadata": {}
        },
        {
          "output_type": "display_data",
          "data": {
            "text/plain": [
              "VBox(children=(Label(value='0.001 MB of 0.001 MB uploaded (0.000 MB deduped)\\r'), FloatProgress(value=1.0, max…"
            ],
            "application/vnd.jupyter.widget-view+json": {
              "version_major": 2,
              "version_minor": 0,
              "model_id": "56d0538737444c90a004fa33c2405505"
            }
          },
          "metadata": {}
        },
        {
          "output_type": "display_data",
          "data": {
            "text/plain": [
              "<IPython.core.display.HTML object>"
            ],
            "text/html": [
              "<style>\n",
              "    table.wandb td:nth-child(1) { padding: 0 10px; text-align: right }\n",
              "    .wandb-row { display: flex; flex-direction: row; flex-wrap: wrap; width: 100% }\n",
              "    .wandb-col { display: flex; flex-direction: column; flex-basis: 100%; flex: 1; padding: 10px; }\n",
              "    </style>\n",
              "<div class=\"wandb-row\"><div class=\"wandb-col\"><h3>Run history:</h3><br/><table class=\"wandb\"><tr><td>loss</td><td>██████▇▇▆▅▄▄▃▃▃▃▃▃▃▃▂▂▂▂▂▂▁▂▁▁▁▁▁▁▁▁▁▁▁▁</td></tr></table><br/></div><div class=\"wandb-col\"><h3>Run summary:</h3><br/><table class=\"wandb\"><tr><td>loss</td><td>0.03458</td></tr></table><br/></div></div>"
            ]
          },
          "metadata": {}
        },
        {
          "output_type": "display_data",
          "data": {
            "text/plain": [
              "<IPython.core.display.HTML object>"
            ],
            "text/html": [
              "Synced <strong style=\"color:#cdcd00\">feasible-capybara-1</strong>: <a href=\"https://wandb.ai/individual_project/test-project/runs/2e1hbu51\" target=\"_blank\">https://wandb.ai/individual_project/test-project/runs/2e1hbu51</a><br/>Synced 5 W&B file(s), 0 media file(s), 0 artifact file(s) and 0 other file(s)"
            ]
          },
          "metadata": {}
        },
        {
          "output_type": "display_data",
          "data": {
            "text/plain": [
              "<IPython.core.display.HTML object>"
            ],
            "text/html": [
              "Find logs at: <code>./wandb/run-20220331_171000-2e1hbu51/logs</code>"
            ]
          },
          "metadata": {}
        }
      ]
    }
  ]
}